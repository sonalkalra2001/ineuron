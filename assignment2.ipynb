{
 "cells": [
  {
   "cell_type": "code",
   "execution_count": 1,
   "id": "423c2893",
   "metadata": {},
   "outputs": [],
   "source": [
    "# QUESTION1"
   ]
  },
  {
   "cell_type": "code",
   "execution_count": 10,
   "id": "0ea379bc",
   "metadata": {},
   "outputs": [
    {
     "name": "stdout",
     "output_type": "stream",
     "text": [
      "6\n"
     ]
    }
   ],
   "source": [
    "n=int(input())"
   ]
  },
  {
   "cell_type": "code",
   "execution_count": 11,
   "id": "17f9af4c",
   "metadata": {},
   "outputs": [
    {
     "name": "stdout",
     "output_type": "stream",
     "text": [
      "* \n",
      "* * \n",
      "* * * \n",
      "* * * * \n",
      "* * * * * \n",
      "* * * * * * \n",
      "* * * * * \n",
      "* * * * \n",
      "* * * \n",
      "* * \n",
      "* \n"
     ]
    }
   ],
   "source": [
    "for i in range (1,n+1):\n",
    "    j=i\n",
    "    while(j>0):\n",
    "        print(\"*\",end=\" \")\n",
    "        j-=1\n",
    "    print(\"\\n\",end=\"\")\n",
    "n-=1\n",
    "for i in range (n,0,-1):\n",
    "    j=i\n",
    "    while(j>0):\n",
    "        print(\"*\",end=\" \")\n",
    "        j-=1\n",
    "    print(\"\\n\",end=\"\")\n",
    "        "
   ]
  },
  {
   "cell_type": "code",
   "execution_count": null,
   "id": "df3a0d03",
   "metadata": {},
   "outputs": [],
   "source": [
    "# QUESTION 2"
   ]
  },
  {
   "cell_type": "code",
   "execution_count": 12,
   "id": "a4cf4e69",
   "metadata": {},
   "outputs": [
    {
     "name": "stdout",
     "output_type": "stream",
     "text": [
      "Input Word: ineuron\n"
     ]
    }
   ],
   "source": [
    "x=input(\"Input Word: \")\n"
   ]
  },
  {
   "cell_type": "code",
   "execution_count": 13,
   "id": "9dd006e6",
   "metadata": {},
   "outputs": [
    {
     "name": "stdout",
     "output_type": "stream",
     "text": [
      "OUTPUT: norueni\n"
     ]
    }
   ],
   "source": [
    "print(\"OUTPUT: \"+ x[::-1])"
   ]
  },
  {
   "cell_type": "code",
   "execution_count": null,
   "id": "c3495f28",
   "metadata": {},
   "outputs": [],
   "source": []
  },
  {
   "cell_type": "code",
   "execution_count": null,
   "id": "63a149fd",
   "metadata": {},
   "outputs": [],
   "source": []
  },
  {
   "cell_type": "code",
   "execution_count": null,
   "id": "eb6dcf16",
   "metadata": {},
   "outputs": [],
   "source": []
  }
 ],
 "metadata": {
  "kernelspec": {
   "display_name": "Python 3",
   "language": "python",
   "name": "python3"
  },
  "language_info": {
   "codemirror_mode": {
    "name": "ipython",
    "version": 3
   },
   "file_extension": ".py",
   "mimetype": "text/x-python",
   "name": "python",
   "nbconvert_exporter": "python",
   "pygments_lexer": "ipython3",
   "version": "3.8.8"
  }
 },
 "nbformat": 4,
 "nbformat_minor": 5
}
